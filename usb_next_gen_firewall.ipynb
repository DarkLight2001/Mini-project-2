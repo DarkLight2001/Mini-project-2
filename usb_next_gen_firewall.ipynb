{
 "cells": [
  {
   "cell_type": "code",
   "execution_count": 20,
   "id": "1165115e",
   "metadata": {},
   "outputs": [],
   "source": [
    "import hashlib\n",
    "import os\n",
    "import time\n",
    "import tkinter\n",
    "from tqdm import tqdm\n",
    "from tkinter import messagebox"
   ]
  },
  {
   "cell_type": "code",
   "execution_count": 21,
   "id": "90d1f92b",
   "metadata": {},
   "outputs": [
    {
     "data": {
      "text/plain": [
       "674667"
      ]
     },
     "execution_count": 21,
     "metadata": {},
     "output_type": "execute_result"
    }
   ],
   "source": [
    "with open(\"full_md5.txt\",\"r\") as f:\n",
    "    data = f.readlines()[9:-1]\n",
    "    \n",
    "new_data =[]\n",
    "\n",
    "for i in data:\n",
    "    new_data.append(i.replace(\"\\n\",\"\"))\n",
    "    \n",
    "len(new_data)"
   ]
  },
  {
   "cell_type": "code",
   "execution_count": 22,
   "id": "520b1fbf",
   "metadata": {},
   "outputs": [
    {
     "name": "stdout",
     "output_type": "stream",
     "text": [
      "USB drive path: F:\\\n"
     ]
    }
   ],
   "source": [
    "import psutil\n",
    "\n",
    "def get_usb_path():\n",
    "    drives = psutil.disk_partitions()\n",
    "    for drive in drives:\n",
    "        if 'removable' in drive.opts and drive.opts != '':\n",
    "            return drive.device\n",
    "\n",
    "# Usage\n",
    "usb_path = get_usb_path()\n",
    "if usb_path:\n",
    "    print(\"USB drive path:\", usb_path)\n",
    "else:\n",
    "    print(\"No USB drive found.\")"
   ]
  },
  {
   "cell_type": "code",
   "execution_count": 23,
   "id": "52a29f61",
   "metadata": {},
   "outputs": [
    {
     "name": "stderr",
     "output_type": "stream",
     "text": [
      "100%|██████████████████████████████████████████████████████████████████████████████████| 46/46 [00:01<00:00, 35.86it/s]\n"
     ]
    }
   ],
   "source": [
    "path = get_usb_path()\n",
    "flag = 0\n",
    "\n",
    "root = tkinter.Tk()\n",
    "root.withdraw()\n",
    "root.attributes('-topmost', 1)\n",
    "\n",
    "\n",
    "\n",
    "#finding file path\n",
    "filelist = []\n",
    "\n",
    "#hashes of all the files found\n",
    "hashlist = []\n",
    "\n",
    "#list of malwares found\n",
    "mal_list=[]\n",
    "\n",
    "for root, dirs, files in os.walk(path):\n",
    "    for file in files:\n",
    "        #append the file name to the list\n",
    "        filelist.append(os.path.join(root,file))\n",
    "\n",
    "for i in tqdm(range(0, len(filelist))):\n",
    "    str = filelist[i]\n",
    "    \n",
    "    # Open the first file and calculate its MD5 hash\n",
    "    with open(str, 'rb') as f1:\n",
    "        hash1 = hashlib.md5(f1.read()).hexdigest()\n",
    "        hashlist.append(hash1)\n",
    "    \n",
    "\n",
    "for count,i in enumerate(hashlist):\n",
    "    if i in new_data:\n",
    "        mal_list.append(count)\n",
    "        if flag == 0:\n",
    "            flag = 1\n",
    "\n",
    "str = \"\"\n",
    "for i in mal_list:\n",
    "    str = str + filelist[i]+\"\\n\"\n",
    "    os.remove(filelist[i])\n",
    "\n",
    "if flag == 1:\n",
    "    messagebox.showerror(\"Error\",\"Malicious file found at location:\\n\"+str)\n",
    "        \n",
    "        \n",
    "if flag == 0:\n",
    "    messagebox.showinfo(\"Info\",\"No Issues Found!\")"
   ]
  },
  {
   "cell_type": "code",
   "execution_count": null,
   "id": "b0ad9c5d",
   "metadata": {},
   "outputs": [],
   "source": [
    "import hashlib\n",
    "import os\n",
    "import time\n",
    "import tkinter\n",
    "from tqdm import tqdm\n",
    "from tkinter import messagebox\n",
    "import psutil\n",
    "\n",
    "def get_usb_path():\n",
    "    drives = psutil.disk_partitions()\n",
    "    for drive in drives:\n",
    "        if 'removable' in drive.opts and drive.opts != '':\n",
    "            return drive.device\n",
    "        \n",
    "\n",
    "with open(\"full_md5.txt\",\"r\") as f:\n",
    "    data = f.readlines()[9:-1]\n",
    "    \n",
    "new_data =[]\n",
    "\n",
    "for i in data:\n",
    "    new_data.append(i.replace(\"\\n\",\"\"))\n",
    "    \n",
    "\n",
    "path = get_usb_path()\n",
    "flag = 0\n",
    "\n",
    "root = tkinter.Tk()\n",
    "root.withdraw()\n",
    "root.attributes('-topmost', 1)\n",
    "\n",
    "\n",
    "\n",
    "#finding file path\n",
    "filelist = []\n",
    "\n",
    "#hashes of all the files found\n",
    "hashlist = []\n",
    "\n",
    "#list of malwares found\n",
    "mal_list=[]\n",
    "\n",
    "for root, dirs, files in os.walk(path):\n",
    "    for file in files:\n",
    "        #append the file name to the list\n",
    "        filelist.append(os.path.join(root,file))\n",
    "\n",
    "for i in tqdm(range(0, len(filelist))):\n",
    "    str = filelist[i]\n",
    "    \n",
    "    # Open the first file and calculate its MD5 hash\n",
    "    with open(str, 'rb') as f1:\n",
    "        hash1 = hashlib.md5(f1.read()).hexdigest()\n",
    "        hashlist.append(hash1)\n",
    "    \n",
    "\n",
    "for count,i in enumerate(hashlist):\n",
    "    if i in new_data:\n",
    "        mal_list.append(count)\n",
    "        if flag == 0:\n",
    "            flag = 1\n",
    "\n",
    "str = \"\"\n",
    "for i in mal_list:\n",
    "    str = str + filelist[i]+\"\\n\"\n",
    "    os.remove(filelist[i])\n",
    "\n",
    "if flag == 1:\n",
    "    messagebox.showerror(\"Error\",\"Malicious file found at location:\\n\"+str)\n",
    "        \n",
    "        \n",
    "if flag == 0:\n",
    "    messagebox.showinfo(\"Info\",\"No Issues Found!\")"
   ]
  }
 ],
 "metadata": {
  "kernelspec": {
   "display_name": "Python 3",
   "language": "python",
   "name": "python3"
  },
  "language_info": {
   "codemirror_mode": {
    "name": "ipython",
    "version": 3
   },
   "file_extension": ".py",
   "mimetype": "text/x-python",
   "name": "python",
   "nbconvert_exporter": "python",
   "pygments_lexer": "ipython3",
   "version": "3.8.8"
  }
 },
 "nbformat": 4,
 "nbformat_minor": 5
}
